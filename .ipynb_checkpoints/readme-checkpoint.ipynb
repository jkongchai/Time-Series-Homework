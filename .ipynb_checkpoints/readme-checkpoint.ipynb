{
 "cells": [
  {
   "cell_type": "markdown",
   "metadata": {},
   "source": [
    "# Time Series Analysis\n",
    "\n",
    "- Based on the p value, both the ARMA and ARIMA models are not a good fit. *(A larger (insignificant) p-value suggests that changes in the predictor are not associated with changes in the response.)*\n",
    "- The p value for ARMA model is 0.422\n",
    "- The p value for ARIMA model is 0.652\t\n",
    "- The GARCH model predicts increased volatility values of 7.434048, 7.475745, 7.516867, 7.557426, 7.597434.\n",
    "- Overall, based on this evaluation alone, this particular model is not a good fit for trading. There are many factors involved in the movement of world currencies that are not accounted for such as economies, foreign policies, interest rates, and much more."
   ]
  },
  {
   "cell_type": "markdown",
   "metadata": {},
   "source": [
    "# Regression Analysis\n",
    "- The Out-of-Sample Root Mean Squared Error (RMSE) is 0.4154543718471276\n",
    "- The In-Sample Root Mean Squared Error (RMSE) is 0.5962037920929946\n",
    "- Higher RMSE means higher error in predicted values. \n",
    "- I recommend more related input features for potential higher model accuracy. "
   ]
  }
 ],
 "metadata": {
  "kernelspec": {
   "display_name": "Python 3",
   "language": "python",
   "name": "python3"
  },
  "language_info": {
   "codemirror_mode": {
    "name": "ipython",
    "version": 3
   },
   "file_extension": ".py",
   "mimetype": "text/x-python",
   "name": "python",
   "nbconvert_exporter": "python",
   "pygments_lexer": "ipython3",
   "version": "3.7.9"
  }
 },
 "nbformat": 4,
 "nbformat_minor": 4
}
